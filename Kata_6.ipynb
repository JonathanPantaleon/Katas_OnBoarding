{
 "cells": [
  {
   "cell_type": "markdown",
   "metadata": {},
   "source": [
    "# Ejercicio1: Crear y usar listas de Python"
   ]
  },
  {
   "cell_type": "code",
   "execution_count": 3,
   "metadata": {},
   "outputs": [
    {
     "name": "stdout",
     "output_type": "stream",
     "text": [
      "En total hay: 8 planetas en el Sistea Solar. Estos son: ['Mercurio', 'Venus', 'Tierra', 'Marte', 'Jupiter', 'Saturno', 'Urano', 'Neptuno']\n",
      "Se acaba de modificar la cantidad de planetas que hay en el Sistema Solar, ahora son: 9 y el ultimo es: Pluton\n"
     ]
    }
   ],
   "source": [
    "# Agrega los ocho planetas (sin Plutón) a una lista. A continuación, muestra el número de planetas.\n",
    "planets = ['Mercurio', 'Venus', 'Tierra', 'Marte', 'Jupiter', 'Saturno', 'Urano', 'Neptuno']\n",
    "print(\"En total hay:\", len(planets), \"planetas en el Sistea Solar. Estos son:\", planets)\n",
    "#Agrega a Plutón a la lista que creaste. Luego muestra tanto el número de planetas como el último planeta de la lista.\n",
    "planets.append('Pluton')\n",
    "cant_planets=len(planets)\n",
    "print(\"Se acaba de modificar la cantidad de planetas que hay en el Sistema Solar, ahora son:\", cant_planets,\"y el ultimo es:\", planets[-1])"
   ]
  },
  {
   "cell_type": "markdown",
   "metadata": {},
   "source": [
    "# Ejercicio 2: Trabajando con datos de una lista"
   ]
  },
  {
   "cell_type": "code",
   "execution_count": 4,
   "metadata": {},
   "outputs": [
    {
     "name": "stdout",
     "output_type": "stream",
     "text": [
      "Estos son los planetas mas cercanos al sol antes que el tuyo: ['Mercurio', 'Venus', 'Tierra'] en total son: 3\n",
      "Estos son los planetas mas lejanos al sol despues del tuyo: ['Jupiter', 'Saturno', 'Urano', 'Neptuno', 'Pluton'] en total son: 5\n"
     ]
    }
   ],
   "source": [
    "# Comienza agregando el código para crear una lista con los planetas.\n",
    "planets = ['Mercurio', 'Venus', 'Tierra', 'Marte', 'Jupiter', 'Saturno', 'Urano', 'Neptuno', 'Pluton']\n",
    "# Solicitamos el nombre de un planeta\n",
    "planeta_soli=input(\"Ingresa el nombre de algun planeta, favor de escribirlo con una letra mayuscula al inicio. Los nombres estan sin acentos\")\n",
    "# Busca el planeta en la lista\n",
    "planeta_index=planets.index(planeta_soli)\n",
    "# Muestra los planetas más cercanos al sol\n",
    "print(\"Estos son los planetas mas cercanos al sol antes que el tuyo:\", planets[0:planeta_index], \"en total son:\", len(planets[0:planeta_index]))\n",
    "# Muestra los planetas más lejanos al sol\n",
    "print(\"Estos son los planetas mas lejanos al sol despues del tuyo:\", planets[planeta_index+1:], \"en total son:\", len(planets[planeta_index+1:]))"
   ]
  }
 ],
 "metadata": {
  "interpreter": {
   "hash": "60fecf660afe0e1d743a31795b4665119a3b4605f2c5034d3c8c9c033385d5ec"
  },
  "kernelspec": {
   "display_name": "Python 3.10.2 64-bit",
   "language": "python",
   "name": "python3"
  },
  "language_info": {
   "codemirror_mode": {
    "name": "ipython",
    "version": 3
   },
   "file_extension": ".py",
   "mimetype": "text/x-python",
   "name": "python",
   "nbconvert_exporter": "python",
   "pygments_lexer": "ipython3",
   "version": "3.10.2"
  },
  "orig_nbformat": 4
 },
 "nbformat": 4,
 "nbformat_minor": 2
}
