{
 "cells": [
  {
   "cell_type": "markdown",
   "metadata": {},
   "source": [
    "# Ejercicio1 - Utilizar operadores aritméticos\n",
    "Comenzaremos usando dos distancias de planetas: Tierra (149.597.870 km) y Júpiter (778.547.200 km)."
   ]
  },
  {
   "cell_type": "code",
   "execution_count": 1,
   "metadata": {},
   "outputs": [
    {
     "name": "stdout",
     "output_type": "stream",
     "text": [
      "La distancia en kilometros es 628967330 y la distancia en millas es 390822179.72043264\n"
     ]
    }
   ],
   "source": [
    "Tierra = 149579870\n",
    "Jupiter = 778547200\n",
    "# Calcular distancia\n",
    "distancia = abs(Tierra - Jupiter)\n",
    "distancia_k= distancia\n",
    "distancia_m= abs(distancia / (1.609344))\n",
    "# Imprimir valores\n",
    "print(\"La distancia en kilometros es {k} y la distancia en millas es {m}\" .format(k=distancia_k, m=distancia_m) )"
   ]
  },
  {
   "cell_type": "markdown",
   "metadata": {},
   "source": [
    "# Ejercicio 2: convierte cadenas en números y usa valores absolutos\n",
    "Para crear nuestra aplicación, queremos leer la distancia del sol para dos planetas, y luego mostrar la distancia entre los planetas."
   ]
  },
  {
   "cell_type": "code",
   "execution_count": 2,
   "metadata": {},
   "outputs": [
    {
     "name": "stdout",
     "output_type": "stream",
     "text": [
      "La distancia en kilometros es 27393775309 y la distancia en millas es 17021702823.63497\n"
     ]
    }
   ],
   "source": [
    "# Ingresar valores\n",
    "plantea_1 = input(\"¿Cual es la distancia del planeta con relacion al sol en kilometros?\")\n",
    "planeta_2 = input(\"¿Cual es la distancia del planeta con relacion al sol en kilometros?\")\n",
    "# Convertir valores en absolutos\n",
    "p_1=int(plantea_1)\n",
    "p_2=int(planeta_2)\n",
    "# Calcular distancia \n",
    "distancia = abs(p_1 - p_2)\n",
    "dis_k= distancia\n",
    "dis_m= abs(distancia / (1.609344))\n",
    "# Imprimir respuesta\n",
    "print(\"La distancia en kilometros es {k} y la distancia en millas es {m}\" .format(k=dis_k, m=dis_m) )"
   ]
  }
 ],
 "metadata": {
  "interpreter": {
   "hash": "60fecf660afe0e1d743a31795b4665119a3b4605f2c5034d3c8c9c033385d5ec"
  },
  "kernelspec": {
   "display_name": "Python 3.10.2 64-bit",
   "language": "python",
   "name": "python3"
  },
  "language_info": {
   "codemirror_mode": {
    "name": "ipython",
    "version": 3
   },
   "file_extension": ".py",
   "mimetype": "text/x-python",
   "name": "python",
   "nbconvert_exporter": "python",
   "pygments_lexer": "ipython3",
   "version": "3.10.2"
  },
  "orig_nbformat": 4
 },
 "nbformat": 4,
 "nbformat_minor": 2
}
