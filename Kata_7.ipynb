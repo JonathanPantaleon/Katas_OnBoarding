{
 "cells": [
  {
   "cell_type": "markdown",
   "metadata": {},
   "source": [
    "# Ejercicio 1: Uso de ciclos while en Python"
   ]
  },
  {
   "cell_type": "code",
   "execution_count": 1,
   "metadata": {},
   "outputs": [
    {
     "name": "stdout",
     "output_type": "stream",
     "text": [
      "Los planetas agregados son: ['Marte', 'Jupiter']\n"
     ]
    }
   ],
   "source": [
    "new_planet=''\n",
    "planets=[]\n",
    "while new_planet.lower() != 'done':\n",
    "    new_planet=input(\"Escribe el nombre del planeta o la palabra 'done' para terminar\")\n",
    "    planets.append(new_planet)\n",
    "\n",
    "print(\"Los planetas agregados son:\", planets [0:-1])"
   ]
  },
  {
   "cell_type": "markdown",
   "metadata": {},
   "source": [
    "# Ejercicio 2: Creación de un ciclo \"for\"\n",
    "Ejercicio: - Ciclo para una lista\n",
    "\n",
    "En este ejercicio, completarás la aplicación escribiendo código que muestre los nombres de esos planetas.\n",
    "\n",
    "Mostrar la lista de los planetas\n",
    "La variable planets almacena los nombres de planeta que ha introducido un usuario. Ahora usarás un ciclo para mostrar esas entradas.\n",
    "\n",
    "Crea un ciclo for para iterar sobre la lista planets. Puedes usar como nombre de la variable planet para cada planeta. Dentro del ciclo for, recuerda utilizar print para mostrar cada planet."
   ]
  },
  {
   "cell_type": "code",
   "execution_count": 2,
   "metadata": {},
   "outputs": [
    {
     "name": "stdout",
     "output_type": "stream",
     "text": [
      "Agregaste: Marte a la lista\n",
      "Agregaste: Tierra a la lista\n",
      "Agregaste: Jupiter a la lista\n",
      "Agregaste: Neptuno a la lista\n",
      "La lista de tus planetas es esta: ['Marte', 'Tierra', 'Jupiter', 'Neptuno']\n"
     ]
    }
   ],
   "source": [
    "new_planet=''\n",
    "planets=['X']\n",
    "for planet in planets:\n",
    "    new_planet=input(\"Agrega un planeta o escribe 'done' para terminar\")\n",
    "    if (new_planet.lower() != 'done'):\n",
    "        planets.append(new_planet)\n",
    "        print (\"Agregaste: {p} a la lista\" .format(p=new_planet))\n",
    "    else:\n",
    "        break\n",
    "\n",
    "print(\"La lista de tus planetas es esta:\", planets[1:])"
   ]
  }
 ],
 "metadata": {
  "interpreter": {
   "hash": "b5dc368a36f684dc5fa2fa33d987841a174f50e32a5482788f3ea1cb6ae9ac63"
  },
  "kernelspec": {
   "display_name": "Python 3.10.2 64-bit",
   "language": "python",
   "name": "python3"
  },
  "language_info": {
   "codemirror_mode": {
    "name": "ipython",
    "version": 3
   },
   "file_extension": ".py",
   "mimetype": "text/x-python",
   "name": "python",
   "nbconvert_exporter": "python",
   "pygments_lexer": "ipython3",
   "version": "3.10.2"
  },
  "orig_nbformat": 4
 },
 "nbformat": 4,
 "nbformat_minor": 2
}
