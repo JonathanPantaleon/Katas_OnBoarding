{
 "cells": [
  {
   "cell_type": "markdown",
   "metadata": {},
   "source": [
    "# Ejercicio 1: Uso de funciones en Python"
   ]
  },
  {
   "cell_type": "code",
   "execution_count": 1,
   "metadata": {},
   "outputs": [
    {
     "name": "stdout",
     "output_type": "stream",
     "text": [
      "El promedio de los tanques es 54.0%\n",
      "    Tanque principal cuena con 12%\n",
      "    Tanque de reserva cuenta con 100%\n",
      "    Tanque exterior cuenta con 50%\n",
      "    \n"
     ]
    }
   ],
   "source": [
    "# Función para leer 3 tanques de combustible y muestre el promedio\n",
    "def reporte(tanque_p, tanque_r, tanque_e):\n",
    "    promedio= (tanque_p+tanque_r+tanque_e) / 3\n",
    "    return f\"\"\"El promedio de los tanques es {promedio}%\n",
    "    Tanque principal cuena con {tanque_p}%\n",
    "    Tanque de reserva cuenta con {tanque_r}%\n",
    "    Tanque exterior cuenta con {tanque_e}%\n",
    "    \"\"\"\n",
    "\n",
    "print(reporte(12,100,50))"
   ]
  },
  {
   "cell_type": "code",
   "execution_count": 2,
   "metadata": {},
   "outputs": [
    {
     "name": "stdout",
     "output_type": "stream",
     "text": [
      "El promedio de los tanques es 54%\n",
      "    Tanque principal cuena con 12%\n",
      "    Tanque de reserva cuenta con 100%\n",
      "    Tanque exterior cuenta con 50%\n",
      "    \n"
     ]
    }
   ],
   "source": [
    "def reporte(tanque_p, tanque_r, tanque_e):\n",
    "    avg=int(promedio(tanque_p, tanque_r, tanque_e))\n",
    "    return f\"\"\"El promedio de los tanques es {avg}%\n",
    "    Tanque principal cuena con {tanque_p}%\n",
    "    Tanque de reserva cuenta con {tanque_r}%\n",
    "    Tanque exterior cuenta con {tanque_e}%\n",
    "    \"\"\"\n",
    "# Función promedio\n",
    "def promedio(tanque_p, tanque_r, tanque_e):\n",
    "    avg=(tanque_p + tanque_r + tanque_e)/3\n",
    "    return avg\n",
    "\n",
    "print(reporte(12,100,50))"
   ]
  },
  {
   "cell_type": "code",
   "execution_count": 3,
   "metadata": {},
   "outputs": [
    {
     "name": "stdout",
     "output_type": "stream",
     "text": [
      "El promedio de los tanques es 54.0%\n",
      "    Tanque principal cuena con 12%\n",
      "    Tanque de reserva cuenta con 100%\n",
      "    Tanque exterior cuenta con 50%\n",
      "    \n"
     ]
    }
   ],
   "source": [
    "# Final\n",
    "def reporte(tanque_p, tanque_r, tanque_e):\n",
    "    return f\"\"\"El promedio de los tanques es {promedio(tanque_p, tanque_r, tanque_e)}%\n",
    "    Tanque principal cuena con {tanque_p}%\n",
    "    Tanque de reserva cuenta con {tanque_r}%\n",
    "    Tanque exterior cuenta con {tanque_e}%\n",
    "    \"\"\"\n",
    "\n",
    "def promedio(tanque_p, tanque_r, tanque_e):\n",
    "    avg=(tanque_p + tanque_r + tanque_e)/3\n",
    "    return avg\n",
    "\n",
    "print(reporte(12,100,50))"
   ]
  },
  {
   "cell_type": "markdown",
   "metadata": {},
   "source": [
    "# Ejercicio 2: Trabajo con argumentos de palabra clave"
   ]
  },
  {
   "cell_type": "code",
   "execution_count": 4,
   "metadata": {},
   "outputs": [
    {
     "name": "stdout",
     "output_type": "stream",
     "text": [
      "El prelanzamiento sera en 10 horas\n",
      "    El tiempo estimado del viaje sera de 30 horas\n",
      "    El tiempo total del viaje sera 40 horas\n",
      "    El destino marcado es Marte\n",
      "    El tanque externo cuenta con 2000 litros \n",
      "    El tanque interno cuenta con 1200 litros\n",
      "    El total de combustible es 3200\n",
      "    FIN DEL REPORTE\n",
      "    \n"
     ]
    }
   ],
   "source": [
    "# Función con un informe preciso de la misión. Considera hora de prelanzamiento, tiempo de vuelo, destino, tanque externo y tanque interno\n",
    "def reporte(prelaunch, tiempo, destino, tanque_e, tanque_i):\n",
    "    return f\"\"\"El prelanzamiento sera en {prelaunch} horas\n",
    "    El tiempo estimado del viaje sera de {tiempo} horas\n",
    "    El tiempo total del viaje sera {prelaunch+tiempo} horas\n",
    "    El destino marcado es {destino}\n",
    "    El tanque externo cuenta con {tanque_e} litros \n",
    "    El tanque interno cuenta con {tanque_i} litros\n",
    "    El total de combustible es {tanque_e+tanque_i}\n",
    "    FIN DEL REPORTE\n",
    "    \"\"\"\n",
    "\n",
    "print(reporte(10, 30, 'Marte', 2000, 1200))"
   ]
  },
  {
   "cell_type": "code",
   "execution_count": 5,
   "metadata": {},
   "outputs": [
    {
     "name": "stdout",
     "output_type": "stream",
     "text": [
      "\n",
      "    El destino es Marte\n",
      "    El tiempo total del viaje es 40 horas\n",
      "    El combustible total es 3200 litros\n",
      "    FIN DEL REPORTE\n",
      "    \n"
     ]
    }
   ],
   "source": [
    "# Funcion nueva\n",
    "def reporte(destino, *horas, **conbustible_total):\n",
    "    return f\"\"\"\n",
    "    El destino es {destino}\n",
    "    El tiempo total del viaje es {sum(horas)} horas\n",
    "    El combustible total es {sum(conbustible_total.values())} litros\n",
    "    FIN DEL REPORTE\n",
    "    \"\"\"\n",
    "\n",
    "print(reporte(\"Marte\", 10, 30, interno=2000, externo=1200))"
   ]
  },
  {
   "cell_type": "code",
   "execution_count": 6,
   "metadata": {},
   "outputs": [
    {
     "name": "stdout",
     "output_type": "stream",
     "text": [
      "\n",
      "    El destino es Marte\n",
      "    El tiempo total del viaje es 40 horas\n",
      "    El combustible total es 3200 litros\n",
      "    El tanque interno tiene 2000 sobrantes \n",
      "El tanque externo tiene 1200 sobrantes \n",
      " FIN DEL REPORTE\n"
     ]
    }
   ],
   "source": [
    "# Funcion nueva\n",
    "def reporte(destino, *horas, **combustible_total):\n",
    "    reporte_p= f\"\"\"\n",
    "    El destino es {destino}\n",
    "    El tiempo total del viaje es {sum(horas)} horas\n",
    "    El combustible total es {sum(combustible_total.values())} litros\n",
    "    \"\"\"\n",
    "    for nombre_tanque, litros in combustible_total.items():\n",
    "        reporte_p += f\"El tanque {nombre_tanque} tiene {litros} sobrantes \\n\"\n",
    "    return reporte_p\n",
    "\n",
    "\n",
    "print(reporte(\"Marte\", 10, 30, interno=2000, externo=1200), 'FIN DEL REPORTE')"
   ]
  }
 ],
 "metadata": {
  "interpreter": {
   "hash": "60fecf660afe0e1d743a31795b4665119a3b4605f2c5034d3c8c9c033385d5ec"
  },
  "kernelspec": {
   "display_name": "Python 3.10.2 64-bit",
   "language": "python",
   "name": "python3"
  },
  "language_info": {
   "codemirror_mode": {
    "name": "ipython",
    "version": 3
   },
   "file_extension": ".py",
   "mimetype": "text/x-python",
   "name": "python",
   "nbconvert_exporter": "python",
   "pygments_lexer": "ipython3",
   "version": "3.10.2"
  },
  "orig_nbformat": 4
 },
 "nbformat": 4,
 "nbformat_minor": 2
}
