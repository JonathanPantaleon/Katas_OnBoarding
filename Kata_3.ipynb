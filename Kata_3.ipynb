{
 "cells": [
  {
   "cell_type": "markdown",
   "metadata": {},
   "source": [
    "## Escribir declaraciones if, else, y elif"
   ]
  },
  {
   "cell_type": "markdown",
   "metadata": {},
   "source": [
    "# Problema 1\n",
    "-Añadir el código necesario para crear una variable que guarde la velocidad del asteroide.\n",
    "\n",
    "-Escribe una expresión de prueba para calcular si necesita una advertencia.\n",
    "\n",
    "-Agregue las instrucciones que se ejecutarán si la expresión de prueba es true o false."
   ]
  },
  {
   "cell_type": "code",
   "execution_count": 1,
   "metadata": {},
   "outputs": [
    {
     "name": "stdout",
     "output_type": "stream",
     "text": [
      "¡ALERTA! Asteroide en camino\n"
     ]
    }
   ],
   "source": [
    "# Velocidad maxima 25 kilometros por segundo (km/s)\n",
    "v_asteroide= 49\n",
    "if (v_asteroide <= 25):\n",
    "    print(\"No hay peligro :)\")\n",
    "else:\n",
    "    print(\"¡ALERTA! Asteroide en camino\")"
   ]
  },
  {
   "cell_type": "markdown",
   "metadata": {},
   "source": [
    "# Problema 2\n",
    "-Agrega el código para crear una variable para un asteroide que viaja a 19 km/s\n",
    "\n",
    "-Escribe varias expresiones de prueba para determinar si puedes ver el rayo de luz desde la tierra\n",
    "\n",
    "-Agrega las instrucciones que se ejecutarán si las expresiones de prueba son True o False"
   ]
  },
  {
   "cell_type": "code",
   "execution_count": 2,
   "metadata": {},
   "outputs": [
    {
     "name": "stdout",
     "output_type": "stream",
     "text": [
      "No se ve nada\n"
     ]
    }
   ],
   "source": [
    "# Velocidad del asteroide igual o mayor a 20 km/s alertar\n",
    "v_asteroide= 19\n",
    "if (v_asteroide<20):\n",
    "    print(\"No se ve nada\")\n",
    "elif(v_asteroide==20):\n",
    "    print(\"Hay rayos de luz en el cielo\")\n",
    "else:\n",
    "    print(\"Hay rayos de luz en el cielo\")"
   ]
  },
  {
   "cell_type": "markdown",
   "metadata": {},
   "source": [
    "# Problema 3\n",
    "-Agrega el código para crear nuevas variables para la velocidad y el tamaño del asteroide\n",
    "\n",
    "-Para probar el código, prueba con varias velocidades y tamaños\n",
    "\n",
    "-Escribe varias expresiones de prueba o combinaciones de expresiones de prueba para determinar qué mensaje se debe enviar a Tierra."
   ]
  },
  {
   "cell_type": "code",
   "execution_count": 3,
   "metadata": {},
   "outputs": [
    {
     "name": "stdout",
     "output_type": "stream",
     "text": [
      "¡ALERTA! Hay un asteroide en camino\n"
     ]
    }
   ],
   "source": [
    "# Los asteroides de menos de 25 metros en su dimensión más grande probablemente se quemarán a medida que entren en la atmósfera de la Tierra\n",
    "# Si una pieza de un asteroide que es más grande que 25 metros pero más pequeña que 1000 metros golpeara la Tierra, causaría mucho daño.\n",
    "# La velocidad del asteroide varía en función de lo cerca que esté del sol, y cualquier velocidad superior a 25 kilómetros por segundo (km/s) merece una advertencia.\n",
    "# Si un asteroide entra en la atmósfera de la Tierra a una velocidad mayor o igual a 20 km/s, a veces produce un rayo de luz que se puede ver desde la Tierra.\n",
    "t_asteroide= 40\n",
    "v_asteroide= 25\n",
    "if (t_asteroide<=25 and v_asteroide<20):\n",
    "    print(\"No hay nada por aqui\")\n",
    "elif (t_asteroide<=25 and v_asteroide==20):\n",
    "    print(\"¡Hay rayos de luz en el cielo!\")\n",
    "elif (t_asteroide>25 and v_asteroide>=25):\n",
    "    print(\"¡ALERTA! Hay un asteroide en camino\")"
   ]
  }
 ],
 "metadata": {
  "interpreter": {
   "hash": "b5dc368a36f684dc5fa2fa33d987841a174f50e32a5482788f3ea1cb6ae9ac63"
  },
  "kernelspec": {
   "display_name": "Python 3.10.2 64-bit",
   "language": "python",
   "name": "python3"
  },
  "language_info": {
   "codemirror_mode": {
    "name": "ipython",
    "version": 3
   },
   "file_extension": ".py",
   "mimetype": "text/x-python",
   "name": "python",
   "nbconvert_exporter": "python",
   "pygments_lexer": "ipython3",
   "version": "3.10.2"
  },
  "orig_nbformat": 4
 },
 "nbformat": 4,
 "nbformat_minor": 2
}
