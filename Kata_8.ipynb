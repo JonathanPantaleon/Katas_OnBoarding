{
 "cells": [
  {
   "cell_type": "markdown",
   "metadata": {},
   "source": [
    "# Ejercicio 1: Creación de diccionarios de Python\n",
    "Para este ejercicio, crearás un diccionario que almacene información sobre el planeta Marte.\n",
    "Agrega el código para crear un nuevo diccionario denominado 'planet'. Rellena con la siguiente información:\n",
    "\n",
    "(name: Mars)\n",
    "(moons: 2)"
   ]
  },
  {
   "cell_type": "code",
   "execution_count": 1,
   "metadata": {},
   "outputs": [
    {
     "name": "stdout",
     "output_type": "stream",
     "text": [
      "El planeta Mars tiene 2 lunas.\n",
      "El planeta Mars tiene una circunferencia polar de 6752 km\n"
     ]
    }
   ],
   "source": [
    "planet={\n",
    "    'name':'Mars',\n",
    "    'moons': 2\n",
    "}\n",
    "planet['name']==planet.get('name')\n",
    "planet['moons']==planet.get('moons')\n",
    "print(\"El planeta\", planet['name'], \"tiene\", planet['moons'], \"lunas.\")\n",
    "planet.update({\n",
    "    'polar': 6752 ,\n",
    "    'equatorial': 6792\n",
    "})\n",
    "planet['polar']==planet.get('polar')\n",
    "print(\"El planeta\", planet['name'], \"tiene una circunferencia polar de\", planet['polar'],\"km\")"
   ]
  },
  {
   "cell_type": "markdown",
   "metadata": {},
   "source": [
    "# Ejercicio 2: Programación dinámica con diccionarios\n",
    "En este escenario, calcularás tanto el número total de lunas en el sistema solar como el número promedio de lunas que tiene un planeta."
   ]
  },
  {
   "cell_type": "code",
   "execution_count": 2,
   "metadata": {},
   "outputs": [
    {
     "name": "stdout",
     "output_type": "stream",
     "text": [
      "En total hay 214 lunas en 12 planetas, esto nos da un promedio de 17.833333333333332 lunas por planeta\n"
     ]
    }
   ],
   "source": [
    "# Planets and moons\n",
    "planet_moons = {\n",
    "    'mercury': 0,\n",
    "    'venus': 0,\n",
    "    'earth': 1,\n",
    "    'mars': 2,\n",
    "    'jupiter': 79,\n",
    "    'saturn': 82,\n",
    "    'uranus': 27,\n",
    "    'neptune': 14,\n",
    "    'pluto': 5,\n",
    "    'haumea': 2,\n",
    "    'makemake': 1,\n",
    "    'eris': 1\n",
    "}\n",
    "total_lunas=0\n",
    "planets=0\n",
    "for values in planet_moons.values():\n",
    "    total_lunas=total_lunas+values\n",
    "\n",
    "for keys in planet_moons.keys():\n",
    "    planets=planets+1\n",
    "\n",
    "promedio_lunas=(total_lunas/planets)\n",
    "print(\"En total hay\", total_lunas, \"lunas en\", planets, \"planetas, esto nos da un promedio de\", promedio_lunas, \"lunas por planeta\")"
   ]
  }
 ],
 "metadata": {
  "interpreter": {
   "hash": "60fecf660afe0e1d743a31795b4665119a3b4605f2c5034d3c8c9c033385d5ec"
  },
  "kernelspec": {
   "display_name": "Python 3.10.2 64-bit",
   "language": "python",
   "name": "python3"
  },
  "language_info": {
   "codemirror_mode": {
    "name": "ipython",
    "version": 3
   },
   "file_extension": ".py",
   "mimetype": "text/x-python",
   "name": "python",
   "nbconvert_exporter": "python",
   "pygments_lexer": "ipython3",
   "version": "3.10.2"
  },
  "orig_nbformat": 4
 },
 "nbformat": 4,
 "nbformat_minor": 2
}
